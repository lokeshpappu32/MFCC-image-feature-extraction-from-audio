{
  "nbformat": 4,
  "nbformat_minor": 0,
  "metadata": {
    "colab": {
      "provenance": [],
      "gpuType": "T4"
    },
    "kernelspec": {
      "name": "python3",
      "display_name": "Python 3"
    },
    "language_info": {
      "name": "python"
    },
    "accelerator": "GPU"
  },
  "cells": [
    {
      "cell_type": "code",
      "source": [
        "from google.colab import drive\n",
        "import os\n",
        "import librosa\n",
        "import librosa.display\n",
        "import matplotlib.pyplot as plt\n",
        "\n",
        "# Mount Google Drive\n",
        "drive.mount('/content/drive')\n",
        "\n",
        "# Directory path of the folder in Google Drive\n",
        "folder_path = '/content/drive/MyDrive/Dataset Child/Female'\n",
        "\n",
        "# Output directory for saving images\n",
        "output_dir = '/content/drive/MyDrive/MFCC_CHILD_FEMALE_IMAGES'\n",
        "\n",
        "# Create the output directory if it doesn't exist\n",
        "if not os.path.exists(output_dir):\n",
        "    os.makedirs(output_dir)\n",
        "\n",
        "# Initialize a counter variable\n",
        "image_count = 0\n",
        "\n",
        "# Iterate over all files in the directory\n",
        "for filename in os.listdir(folder_path):\n",
        "    if filename.endswith('.wav'):\n",
        "        file_path = os.path.join(folder_path, filename)\n",
        "        \n",
        "        # Load the speech signal\n",
        "        signal, sr = librosa.load(file_path, sr=None)\n",
        "        \n",
        "        # Extract MFCC features\n",
        "        mfccs = librosa.feature.mfcc(y=signal, sr=sr, n_mfcc=13)\n",
        "        \n",
        "        # Plot the MFCC features as images\n",
        "        plt.figure(figsize=(10, 4))\n",
        "        librosa.display.specshow(mfccs, x_axis='time')\n",
        "        plt.colorbar(format='%+2.0f dB')\n",
        "        plt.title('MFCC')\n",
        "        plt.tight_layout()\n",
        "        \n",
        "        # Save the image to the output directory with a new name\n",
        "        new_filename = f'Child-Female_{image_count}.png'\n",
        "        output_path = os.path.join(output_dir, new_filename)\n",
        "        plt.savefig(output_path)\n",
        "        plt.close()\n",
        "        \n",
        "        # Increment the image count\n",
        "        image_count += 1\n",
        "\n",
        "# Print the total number of images saved\n",
        "print(\"Total number of images:\", image_count)\n"
      ],
      "metadata": {
        "colab": {
          "base_uri": "https://localhost:8080/"
        },
        "id": "PY9rIEleyaH0",
        "outputId": "23847e6d-091b-4523-b967-8b556493b23f"
      },
      "execution_count": 1,
      "outputs": [
        {
          "output_type": "stream",
          "name": "stdout",
          "text": [
            "Mounted at /content/drive\n",
            "Total number of images: 750\n"
          ]
        }
      ]
    },
    {
      "cell_type": "code",
      "source": [
        "from google.colab import drive\n",
        "import os\n",
        "import librosa\n",
        "import librosa.display\n",
        "import matplotlib.pyplot as plt\n",
        "\n",
        "# Mount Google Drive\n",
        "drive.mount('/content/drive')\n",
        "\n",
        "# Directory path of the folder in Google Drive\n",
        "folder_path = '/content/drive/MyDrive/Dataset Child/Male'\n",
        "\n",
        "# Output directory for saving images\n",
        "output_dir = '/content/drive/MyDrive/MFCC_CHILD_MALE_IMAGES'\n",
        "\n",
        "# Create the output directory if it doesn't exist\n",
        "if not os.path.exists(output_dir):\n",
        "    os.makedirs(output_dir)\n",
        "\n",
        "# Initialize a counter variable\n",
        "image_count = 0\n",
        "\n",
        "# Iterate over all files in the directory\n",
        "for filename in os.listdir(folder_path):\n",
        "    if filename.endswith('.wav'):\n",
        "        file_path = os.path.join(folder_path, filename)\n",
        "        \n",
        "        # Load the speech signal\n",
        "        signal, sr = librosa.load(file_path, sr=None)\n",
        "        \n",
        "        # Extract MFCC features\n",
        "        mfccs = librosa.feature.mfcc(y=signal, sr=sr, n_mfcc=13)\n",
        "        \n",
        "        # Plot the MFCC features as images\n",
        "        plt.figure(figsize=(10, 4))\n",
        "        librosa.display.specshow(mfccs, x_axis='time')\n",
        "        plt.colorbar(format='%+2.0f dB')\n",
        "        plt.title('MFCC')\n",
        "        plt.tight_layout()\n",
        "        \n",
        "        # Save the image to the output directory with a new name\n",
        "        new_filename = f'Child-Male_{image_count}.png'\n",
        "        output_path = os.path.join(output_dir, new_filename)\n",
        "        plt.savefig(output_path)\n",
        "        plt.close()\n",
        "        \n",
        "        # Increment the image count\n",
        "        image_count += 1\n",
        "\n",
        "# Print the total number of images saved\n",
        "print(\"Total number of images:\", image_count)\n"
      ],
      "metadata": {
        "colab": {
          "base_uri": "https://localhost:8080/"
        },
        "id": "KXq687io2J6y",
        "outputId": "cd5133ac-080b-4dc8-ebf3-14f99f8c4f25"
      },
      "execution_count": 2,
      "outputs": [
        {
          "output_type": "stream",
          "name": "stdout",
          "text": [
            "Drive already mounted at /content/drive; to attempt to forcibly remount, call drive.mount(\"/content/drive\", force_remount=True).\n",
            "Total number of images: 750\n"
          ]
        }
      ]
    },
    {
      "cell_type": "code",
      "source": [
        "from google.colab import drive\n",
        "import os\n",
        "import librosa\n",
        "import librosa.display\n",
        "import matplotlib.pyplot as plt\n",
        "\n",
        "# Mount Google Drive\n",
        "drive.mount('/content/drive')\n",
        "\n",
        "# Directory path of the folder in Google Drive\n",
        "folder_path = '/content/drive/MyDrive/Mozilla Dataset Adult/Female'\n",
        "\n",
        "# Output directory for saving images\n",
        "output_dir = '/content/drive/MyDrive/MFCC_ADULT_FEMALE_IMAGES'\n",
        "\n",
        "# Create the output directory if it doesn't exist\n",
        "if not os.path.exists(output_dir):\n",
        "    os.makedirs(output_dir)\n",
        "\n",
        "# Initialize a counter variable\n",
        "image_count = 0\n",
        "\n",
        "# Iterate over all files in the directory\n",
        "for filename in os.listdir(folder_path):\n",
        "    if filename.endswith('.mp3'):\n",
        "        file_path = os.path.join(folder_path, filename)\n",
        "        \n",
        "        # Load the speech signal\n",
        "        signal, sr = librosa.load(file_path, sr=None)\n",
        "        \n",
        "        # Extract MFCC features\n",
        "        mfccs = librosa.feature.mfcc(y=signal, sr=sr, n_mfcc=13)\n",
        "        \n",
        "        # Plot the MFCC features as images\n",
        "        plt.figure(figsize=(10, 4))\n",
        "        librosa.display.specshow(mfccs, x_axis='time')\n",
        "        plt.colorbar(format='%+2.0f dB')\n",
        "        plt.title('MFCC')\n",
        "        plt.tight_layout()\n",
        "        \n",
        "        # Save the image to the output directory with a new name\n",
        "        new_filename = f'Adult-Female_{image_count}.png'\n",
        "        output_path = os.path.join(output_dir, new_filename)\n",
        "        plt.savefig(output_path)\n",
        "        plt.close()\n",
        "        \n",
        "        # Increment the image count\n",
        "        image_count += 1\n",
        "\n",
        "# Print the total number of images saved\n",
        "print(\"Total number of images:\", image_count)"
      ],
      "metadata": {
        "colab": {
          "base_uri": "https://localhost:8080/"
        },
        "id": "0obfmuhv5lM8",
        "outputId": "4d0f4d8a-0bc1-4ea7-cbfd-226cc45cf0da"
      },
      "execution_count": 3,
      "outputs": [
        {
          "output_type": "stream",
          "name": "stdout",
          "text": [
            "Drive already mounted at /content/drive; to attempt to forcibly remount, call drive.mount(\"/content/drive\", force_remount=True).\n",
            "Total number of images: 750\n"
          ]
        }
      ]
    },
    {
      "cell_type": "code",
      "source": [
        "from google.colab import drive\n",
        "import os\n",
        "import librosa\n",
        "import librosa.display\n",
        "import matplotlib.pyplot as plt\n",
        "\n",
        "# Mount Google Drive\n",
        "drive.mount('/content/drive')\n",
        "\n",
        "# Directory path of the folder in Google Drive\n",
        "folder_path = '/content/drive/MyDrive/Mozilla Dataset Adult/Male'\n",
        "\n",
        "# Output directory for saving images\n",
        "output_dir = '/content/drive/MyDrive/MFCC_ADULT_MALE_IMAGES'\n",
        "\n",
        "# Create the output directory if it doesn't exist\n",
        "if not os.path.exists(output_dir):\n",
        "    os.makedirs(output_dir)\n",
        "\n",
        "# Initialize a counter variable\n",
        "image_count = 0\n",
        "\n",
        "# Iterate over all files in the directory\n",
        "for filename in os.listdir(folder_path):\n",
        "    if filename.endswith('.mp3'):\n",
        "        file_path = os.path.join(folder_path, filename)\n",
        "        \n",
        "        # Load the speech signal\n",
        "        signal, sr = librosa.load(file_path, sr=None)\n",
        "        \n",
        "        # Extract MFCC features\n",
        "        mfccs = librosa.feature.mfcc(y=signal, sr=sr, n_mfcc=13)\n",
        "        \n",
        "        # Plot the MFCC features as images\n",
        "        plt.figure(figsize=(10, 4))\n",
        "        librosa.display.specshow(mfccs, x_axis='time')\n",
        "        plt.colorbar(format='%+2.0f dB')\n",
        "        plt.title('MFCC')\n",
        "        plt.tight_layout()\n",
        "        \n",
        "        # Save the image to the output directory with a new name\n",
        "        new_filename = f'Adult-Male_{image_count}.png'\n",
        "        output_path = os.path.join(output_dir, new_filename)\n",
        "        plt.savefig(output_path)\n",
        "        plt.close()\n",
        "        \n",
        "        # Increment the image count\n",
        "        image_count += 1\n",
        "\n",
        "# Print the total number of images saved\n",
        "print(\"Total number of images:\", image_count)"
      ],
      "metadata": {
        "colab": {
          "base_uri": "https://localhost:8080/"
        },
        "id": "0ObtM7Yx60nu",
        "outputId": "80c9584a-d996-4af9-e1bc-77848aa7c0be"
      },
      "execution_count": 4,
      "outputs": [
        {
          "output_type": "stream",
          "name": "stdout",
          "text": [
            "Drive already mounted at /content/drive; to attempt to forcibly remount, call drive.mount(\"/content/drive\", force_remount=True).\n",
            "Total number of images: 750\n"
          ]
        }
      ]
    },
    {
      "cell_type": "code",
      "source": [],
      "metadata": {
        "id": "TB01cWes7eLs"
      },
      "execution_count": null,
      "outputs": []
    }
  ]
}